{
 "cells": [
  {
   "cell_type": "markdown",
   "metadata": {
    "id": "djBOyMW2xlVU"
   },
   "source": [
    "# Ablation Study 1 - Simple Regression Model for Classification\n",
    "\n",
    "##### This notebook contains all the code necessary to perform our first ablation test. Here, we are seeing if using a simple logistic regression model based on the three peak fit parameters (height, width, and position) can successfully classify a pixel into material vs. substrate."
   ]
  },
  {
   "cell_type": "markdown",
   "metadata": {
    "id": "eZH3QmRHyPAO"
   },
   "source": [
    "# Load in Libraries, Data Files, and Ground Truth Data"
   ]
  },
  {
   "cell_type": "code",
   "execution_count": null,
   "metadata": {
    "id": "ioGUPusaxFql"
   },
   "outputs": [],
   "source": [
    "import hyperspy.api as hs\n",
    "import hyperspy.signal_tools as hs_st\n",
    "import hyperspy.axes as axes\n",
    "import numpy as np\n",
    "import pandas as pd\n",
    "import matplotlib as mpl\n",
    "import matplotlib.pyplot as plt\n",
    "from hyperspy.signals import Signal1D\n",
    "from tqdm import tqdm\n",
    "import csv\n",
    "import os\n",
    "from sklearn import svm\n",
    "from sklearn.model_selection import train_test_split\n",
    "from sklearn.linear_model import LogisticRegression\n",
    "from sklearn.preprocessing import StandardScaler\n",
    "from Ground_Truth_Creator import getGT\n",
    "from sklearn.metrics import confusion_matrix, ConfusionMatrixDisplay\n",
    "from sklearn.model_selection import train_test_split\n",
    "from PIL import Image, ImageEnhance\n",
    "import numpy as np\n",
    "import tifffile as tiff\n",
    "import matplotlib.pyplot as plt\n",
    "\n",
    "hs.set_log_level('INFO')"
   ]
  },
  {
   "cell_type": "code",
   "execution_count": 3,
   "metadata": {
    "id": "U9UOz09IxTS9"
   },
   "outputs": [
    {
     "name": "stderr",
     "output_type": "stream",
     "text": [
      "100%|██████████| 16/16 [01:57<00:00,  7.33s/it]\n"
     ]
    }
   ],
   "source": [
    "# Loop through tif stacks to load in data as well as the ground truth results\n",
    "\n",
    "# Define the folder path\n",
    "folder_path = 'Time Series Oxidation Files'\n",
    "full_path = os.path.join(os.getcwd(), folder_path)\n",
    "\n",
    "file_list = []\n",
    "for item in os.listdir('Time Series Oxidation Files'):\n",
    "    if item.endswith('.tif'):\n",
    "        file_list.append(item)\n",
    "\n",
    "data_list = []\n",
    "for item in tqdm(file_list):\n",
    "    file_path = os.path.join(full_path, item)\n",
    "    data_list.append(getGT(file_path))"
   ]
  },
  {
   "cell_type": "markdown",
   "metadata": {
    "id": "NQ-VZDVByauF"
   },
   "source": [
    "# Data Frame Creation and Visualization"
   ]
  },
  {
   "cell_type": "code",
   "execution_count": 4,
   "metadata": {
    "id": "6bLU6oXaxVLo"
   },
   "outputs": [
    {
     "name": "stderr",
     "output_type": "stream",
     "text": [
      "100%|██████████| 48/48 [00:05<00:00,  8.46it/s]\n"
     ]
    }
   ],
   "source": [
    "height_Array = []\n",
    "position_Array = []\n",
    "width_Array = []\n",
    "time_Array = []\n",
    "classification_Array = []\n",
    "\n",
    "\n",
    "folder_path = 'Peak Parameter CSV Files'\n",
    "full_path = os.path.join(os.getcwd(), folder_path)\n",
    "\n",
    "# Loop through .csv files containing curve fit parameters and organize arrays for\n",
    "# each peak fit parameter\n",
    "for file in tqdm(os.listdir(full_path)):\n",
    "    file_path = os.path.join(full_path, file)\n",
    "    if file.endswith('Amp.csv'):\n",
    "        with open(file_path, 'r') as f:\n",
    "            reader = csv.reader(f)\n",
    "            data = list(reader)\n",
    "            amp_data = list(np.array(data).flatten())\n",
    "            height_Array = height_Array + amp_data\n",
    "            time = int(file.split('min')[0])\n",
    "            time_Array = time_Array + list(np.ones(90000)*time)\n",
    "\n",
    "    elif file.endswith('Center.csv'):\n",
    "        with open(file_path, 'r') as f:\n",
    "            reader = csv.reader(f)\n",
    "            data = list(reader)\n",
    "            center_data = list(np.array(data).flatten())\n",
    "            position_Array = position_Array + center_data\n",
    "\n",
    "    elif file.endswith('Sigma.csv'):\n",
    "        with open(file_path, 'r') as f:\n",
    "            reader = csv.reader(f)\n",
    "            data = list(reader)\n",
    "            sigma_data = list(np.array(data).flatten())\n",
    "            width_Array = width_Array + sigma_data\n",
    "\n",
    "for item in data_list:\n",
    "    classification_Array = classification_Array + item\n",
    "\n",
    "# Combine into one large array and process into dataframe\n",
    "data_Array = np.array([height_Array, position_Array, width_Array, classification_Array, time_Array]).T"
   ]
  },
  {
   "cell_type": "code",
   "execution_count": 5,
   "metadata": {
    "id": "tRH0DaiExZb0"
   },
   "outputs": [
    {
     "data": {
      "text/html": [
       "<div>\n",
       "<style scoped>\n",
       "    .dataframe tbody tr th:only-of-type {\n",
       "        vertical-align: middle;\n",
       "    }\n",
       "\n",
       "    .dataframe tbody tr th {\n",
       "        vertical-align: top;\n",
       "    }\n",
       "\n",
       "    .dataframe thead th {\n",
       "        text-align: right;\n",
       "    }\n",
       "</style>\n",
       "<table border=\"1\" class=\"dataframe\">\n",
       "  <thead>\n",
       "    <tr style=\"text-align: right;\">\n",
       "      <th></th>\n",
       "      <th>Height</th>\n",
       "      <th>Center</th>\n",
       "      <th>Width</th>\n",
       "      <th>Classification</th>\n",
       "      <th>Time</th>\n",
       "    </tr>\n",
       "  </thead>\n",
       "  <tbody>\n",
       "    <tr>\n",
       "      <th>0</th>\n",
       "      <td>0.026927</td>\n",
       "      <td>622.566373</td>\n",
       "      <td>80.228225</td>\n",
       "      <td>1.0</td>\n",
       "      <td>0.0</td>\n",
       "    </tr>\n",
       "    <tr>\n",
       "      <th>1</th>\n",
       "      <td>0.047228</td>\n",
       "      <td>634.106517</td>\n",
       "      <td>7.209891</td>\n",
       "      <td>0.0</td>\n",
       "      <td>0.0</td>\n",
       "    </tr>\n",
       "    <tr>\n",
       "      <th>2</th>\n",
       "      <td>0.126037</td>\n",
       "      <td>580.254087</td>\n",
       "      <td>0.572784</td>\n",
       "      <td>0.0</td>\n",
       "      <td>0.0</td>\n",
       "    </tr>\n",
       "    <tr>\n",
       "      <th>3</th>\n",
       "      <td>-0.145994</td>\n",
       "      <td>665.365131</td>\n",
       "      <td>1.132083</td>\n",
       "      <td>0.0</td>\n",
       "      <td>0.0</td>\n",
       "    </tr>\n",
       "    <tr>\n",
       "      <th>4</th>\n",
       "      <td>0.201331</td>\n",
       "      <td>645.307784</td>\n",
       "      <td>0.570608</td>\n",
       "      <td>0.0</td>\n",
       "      <td>0.0</td>\n",
       "    </tr>\n",
       "    <tr>\n",
       "      <th>...</th>\n",
       "      <td>...</td>\n",
       "      <td>...</td>\n",
       "      <td>...</td>\n",
       "      <td>...</td>\n",
       "      <td>...</td>\n",
       "    </tr>\n",
       "    <tr>\n",
       "      <th>1439995</th>\n",
       "      <td>0.058001</td>\n",
       "      <td>601.518309</td>\n",
       "      <td>38.623101</td>\n",
       "      <td>1.0</td>\n",
       "      <td>15.0</td>\n",
       "    </tr>\n",
       "    <tr>\n",
       "      <th>1439996</th>\n",
       "      <td>0.120802</td>\n",
       "      <td>592.727704</td>\n",
       "      <td>8.384419</td>\n",
       "      <td>1.0</td>\n",
       "      <td>15.0</td>\n",
       "    </tr>\n",
       "    <tr>\n",
       "      <th>1439997</th>\n",
       "      <td>0.108746</td>\n",
       "      <td>592.712819</td>\n",
       "      <td>16.440437</td>\n",
       "      <td>1.0</td>\n",
       "      <td>15.0</td>\n",
       "    </tr>\n",
       "    <tr>\n",
       "      <th>1439998</th>\n",
       "      <td>0.050630</td>\n",
       "      <td>592.613385</td>\n",
       "      <td>25.959486</td>\n",
       "      <td>1.0</td>\n",
       "      <td>15.0</td>\n",
       "    </tr>\n",
       "    <tr>\n",
       "      <th>1439999</th>\n",
       "      <td>0.088922</td>\n",
       "      <td>599.127631</td>\n",
       "      <td>20.422992</td>\n",
       "      <td>1.0</td>\n",
       "      <td>15.0</td>\n",
       "    </tr>\n",
       "  </tbody>\n",
       "</table>\n",
       "<p>1440000 rows × 5 columns</p>\n",
       "</div>"
      ],
      "text/plain": [
       "           Height      Center      Width  Classification  Time\n",
       "0        0.026927  622.566373  80.228225             1.0   0.0\n",
       "1        0.047228  634.106517   7.209891             0.0   0.0\n",
       "2        0.126037  580.254087   0.572784             0.0   0.0\n",
       "3       -0.145994  665.365131   1.132083             0.0   0.0\n",
       "4        0.201331  645.307784   0.570608             0.0   0.0\n",
       "...           ...         ...        ...             ...   ...\n",
       "1439995  0.058001  601.518309  38.623101             1.0  15.0\n",
       "1439996  0.120802  592.727704   8.384419             1.0  15.0\n",
       "1439997  0.108746  592.712819  16.440437             1.0  15.0\n",
       "1439998  0.050630  592.613385  25.959486             1.0  15.0\n",
       "1439999  0.088922  599.127631  20.422992             1.0  15.0\n",
       "\n",
       "[1440000 rows x 5 columns]"
      ]
     },
     "execution_count": 5,
     "metadata": {},
     "output_type": "execute_result"
    }
   ],
   "source": [
    "Curve_DF = pd.DataFrame(data_Array, columns=['Height', 'Center', 'Width', 'Classification', 'Time'], dtype='float')\n",
    "Curve_DF"
   ]
  },
  {
   "cell_type": "code",
   "execution_count": null,
   "metadata": {},
   "outputs": [],
   "source": [
    "# Create dataframes for each time point\n",
    "dataframes = []\n",
    "for k in tqdm(range(16)):\n",
    "    dataframes.append(Curve_DF.loc[[i for i in range(len(Curve_DF)) if Curve_DF['Time'][i] == k]])"
   ]
  },
  {
   "cell_type": "markdown",
   "metadata": {},
   "source": [
    "### Get accuracy scores for each time step"
   ]
  },
  {
   "cell_type": "code",
   "execution_count": null,
   "metadata": {},
   "outputs": [],
   "source": [
    "scaler = StandardScaler()\n",
    "counter = 0\n",
    "for frame in dataframes:\n",
    "    x_train, x_test, y_train, y_test = train_test_split(scaler.fit_transform(frame[['Height', 'Center', 'Width']]), frame['Classification'], train_size=0.8)\n",
    "    LogReg = LogisticRegression(class_weight={1:2, 0:1}, solver='lbfgs')\n",
    "    LogReg.fit(x_train, y_train)\n",
    "    print(f\"df{counter} Accuracy = {np.round(LogReg.score(x_test, y_test), 5)}\")\n",
    "    counter += 1"
   ]
  },
  {
   "cell_type": "markdown",
   "metadata": {},
   "source": [
    "### Get total accuracy and compute confusion matrix"
   ]
  },
  {
   "cell_type": "code",
   "execution_count": 7,
   "metadata": {
    "id": "5YpeCcyjxbLq"
   },
   "outputs": [
    {
     "name": "stdout",
     "output_type": "stream",
     "text": [
      "Accuracy = 0.47719\n"
     ]
    },
    {
     "data": {
      "image/png": "[encoded data removed]",
      "text/plain": [
       "<Figure size 640x480 with 2 Axes>"
      ]
     },
     "metadata": {},
     "output_type": "display_data"
    }
   ],
   "source": [
    "# Scale original data and use class_weight function to balance the mismatch in classes\n",
    "scaler = StandardScaler()\n",
    "x_train, x_test, y_train, y_test = train_test_split(scaler.fit_transform(Curve_DF[['Height', 'Center', 'Width']]), Curve_DF['Classification'], train_size=0.8)\n",
    "LogReg = LogisticRegression(class_weight={1:2, 0:1}, solver='lbfgs')\n",
    "LogReg.fit(x_train, y_train)\n",
    "print(f\"Accuracy = {np.round(LogReg.score(x_test, y_test), 5)}\")\n",
    "ConfusionMatrixDisplay.from_predictions(y_test, LogReg.predict(x_test), display_labels=LogReg.classes_, cmap='viridis')\n",
    "plt.show()"
   ]
  }
 ],
 "metadata": {
  "colab": {
   "authorship_tag": "ABX9TyNbdVgvg/xgtcZUfe4iOO7d",
   "provenance": []
  },
  "kernelspec": {
   "display_name": "176Project",
   "language": "python",
   "name": "python3"
  },
  "language_info": {
   "codemirror_mode": {
    "name": "ipython",
    "version": 3
   },
   "file_extension": ".py",
   "mimetype": "text/x-python",
   "name": "python",
   "nbconvert_exporter": "python",
   "pygments_lexer": "ipython3",
   "version": "3.12.4"
  }
 },
 "nbformat": 4,
 "nbformat_minor": 0
}
